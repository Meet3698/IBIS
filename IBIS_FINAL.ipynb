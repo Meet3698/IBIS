{
  "nbformat": 4,
  "nbformat_minor": 0,
  "metadata": {
    "kernelspec": {
      "display_name": "Python 3.7.7 64-bit",
      "language": "python",
      "name": "python37764bitdcfde6ef31e64fe3ab9a818748408663"
    },
    "language_info": {
      "codemirror_mode": {
        "name": "ipython",
        "version": 3
      },
      "file_extension": ".py",
      "mimetype": "text/x-python",
      "name": "python",
      "nbconvert_exporter": "python",
      "pygments_lexer": "ipython3",
      "version": "3.7.7"
    },
    "colab": {
      "name": "IBIS_FINAL.ipynb",
      "provenance": [],
      "collapsed_sections": []
    },
    "accelerator": "GPU"
  },
  "cells": [
    {
      "cell_type": "code",
      "metadata": {
        "id": "c4f4BS1Kbpr7",
        "colab_type": "code",
        "colab": {}
      },
      "source": [
        "import os,glob\n",
        "import numpy as np\n",
        "from keras.preprocessing.image import load_img\n",
        "import cv2\n",
        "from keras.preprocessing.image import img_to_array"
      ],
      "execution_count": 0,
      "outputs": []
    },
    {
      "cell_type": "code",
      "metadata": {
        "id": "y-C258KTcH3r",
        "colab_type": "code",
        "colab": {}
      },
      "source": [
        "root = '/content/drive/My Drive/detection/'"
      ],
      "execution_count": 0,
      "outputs": []
    },
    {
      "cell_type": "code",
      "metadata": {
        "id": "_BpScCDSbpsJ",
        "colab_type": "code",
        "colab": {}
      },
      "source": [
        "f = open(root+'image.txt','r')\n",
        "f1 = open(root+'data.txt','w')\n",
        "f2 = open(root+'bbox.txt','r')\n",
        "f3 = open(root+'coordinates_final.txt','w')\n",
        "   \n",
        "lines = f2.readlines()\n",
        "lines1 = f.readlines()\n",
        "\n",
        "for line in lines:\n",
        "    line = line.split()\n",
        "    f3.write(str(float(line[1]))+\" \"+str(float(line[2]))+\" \"+str((float(line[1])+float(line[3])))+\" \"+str((float(line[2])+float(line[4])))+\"\\n\")\n",
        "\n",
        "for line in lines1:\n",
        "    line = line.split(\"/\")[1]\n",
        "    f1.write(line)\n",
        "    \n",
        "f.close()\n",
        "f1.close()\n",
        "f2.close()\n",
        "f3.close()"
      ],
      "execution_count": 0,
      "outputs": []
    },
    {
      "cell_type": "code",
      "metadata": {
        "id": "bfQRPqS0bpsW",
        "colab_type": "code",
        "outputId": "00f33885-370f-4448-bdea-63c5d32dc0ee",
        "colab": {
          "base_uri": "https://localhost:8080/",
          "height": 54
        }
      },
      "source": [
        "import os,glob\n",
        "folder = glob.glob(root+'data/*')\n",
        "\n",
        "f = open(root+'data.txt','r')\n",
        "f1 = open(root+'coordinates_final.txt','r')\n",
        "f2 = open(root+'image_shape.txt','w')\n",
        "\n",
        "train_it = []\n",
        "val_it = []\n",
        "test_it = []\n",
        "label_train = []\n",
        "label_val = []\n",
        "label_test = []\n",
        "im_shape_train = []\n",
        "im_shape_val = []\n",
        "im_shape_test = []\n",
        "\n",
        "predict_class_train = []\n",
        "predict_class_val = []\n",
        "predict_class_test = []\n",
        "\n",
        "label_train1 = []\n",
        "label_val1 = []\n",
        "label_test1 = []\n",
        "class_cnt = 0\n",
        "for directory in folder:\n",
        "    print(directory)\n",
        "    train = len(os.listdir(directory))*0.7\n",
        "    val = len(os.listdir(directory))*0.2\n",
        "    test = len(os.listdir(directory))*0.1\n",
        "    cnt = 1\n",
        "    for i in range(len(os.listdir(directory))):\n",
        "        file = f.readline().rstrip('\\n')\n",
        "        src = directory + '/' + file\n",
        "\n",
        "        if(cnt <= train):\n",
        "            dst_dir = 'train/'\n",
        "            photo = cv2.imread(src)\n",
        "            f2.write(str(photo.shape)+\"\\n\")\n",
        "            im_shape_train.append(photo.shape)\n",
        "            photo = cv2.resize(photo,(256,256))\n",
        "            photo = photo.reshape(256,256,3)\n",
        "            train_it.append(photo)\n",
        "            line = f1.readline().split(\" \")\n",
        "            line[-1] = line[-1].strip()\n",
        "            label_train.append(line)\n",
        "            if class_cnt==0:\n",
        "              predict_class_train.append([1,0])\n",
        "            else:\n",
        "              predict_class_train.append([0,1])\n",
        "        elif(cnt > train and cnt <= train+val):\n",
        "            dst_dir = 'validate/'\n",
        "            photo = cv2.imread(src)\n",
        "            f2.write(str(photo.shape)+\"\\n\")\n",
        "            im_shape_val.append(photo.shape)\n",
        "            photo = cv2.resize(photo,(256,256))\n",
        "            photo = photo.reshape(256,256,3)\n",
        "            val_it.append(photo)\n",
        "            line = f1.readline().split(\" \")\n",
        "            line[-1] = line[-1].strip()\n",
        "            label_val.append(line)\n",
        "            if class_cnt==0:\n",
        "              predict_class_val.append([1,0])\n",
        "            else:\n",
        "              predict_class_val.append([0,1])\n",
        "        else:\n",
        "            dst_dir = 'test/'\n",
        "            photo = cv2.imread(src)\n",
        "            f2.write(str(photo.shape)+\"\\n\")\n",
        "            im_shape_test.append(photo.shape)\n",
        "            photo = cv2.resize(photo,(256,256))\n",
        "            photo = photo.reshape(256,256,3)\n",
        "            test_it.append(photo)\n",
        "            line = f1.readline().split(\" \")\n",
        "            line[-1] = line[-1].strip()\n",
        "            label_test.append(line)\n",
        "            if class_cnt==0:\n",
        "              predict_class_test.append([1,0])\n",
        "            else:\n",
        "              predict_class_test.append([0,1])\n",
        "        cnt += 1\n",
        "    class_cnt += 1"
      ],
      "execution_count": 210,
      "outputs": [
        {
          "output_type": "stream",
          "text": [
            "/content/drive/My Drive/detection/data/046.Gadwall\n",
            "/content/drive/My Drive/detection/data/182.Yellow_Warbler\n"
          ],
          "name": "stdout"
        }
      ]
    },
    {
      "cell_type": "code",
      "metadata": {
        "id": "OUYyFAxFbpse",
        "colab_type": "code",
        "colab": {}
      },
      "source": [
        "import copy\n",
        "label_train1 = copy.deepcopy(label_train)\n",
        "label_val1 = copy.deepcopy(label_val)\n",
        "label_test1 = copy.deepcopy(label_test)"
      ],
      "execution_count": 0,
      "outputs": []
    },
    {
      "cell_type": "code",
      "metadata": {
        "id": "bDutc2uJbps9",
        "colab_type": "code",
        "outputId": "3d640ab8-8083-4bc5-85f9-4d11d58c650a",
        "colab": {
          "base_uri": "https://localhost:8080/",
          "height": 56
        }
      },
      "source": [
        "for i in range(len(label_train)):\n",
        "    label_train[i][0] = int(((float(label_train[i][0])/im_shape_train[i][1])*256))\n",
        "    label_train[i][1] = int(((float(label_train[i][1])/im_shape_train[i][0])*256))\n",
        "    label_train[i][2] = int(((float(label_train[i][2])/im_shape_train[i][1])*256))\n",
        "    label_train[i][3] = int(((float(label_train[i][3])/im_shape_train[i][0])*256))\n",
        "\n",
        "for i in range(len(label_val)):\n",
        "    label_val[i][0] = int(((float(label_val[i][0])/im_shape_val[i][1])*256))\n",
        "    label_val[i][1] = int(((float(label_val[i][1])/im_shape_val[i][0])*256))\n",
        "    label_val[i][2] = int(((float(label_val[i][2])/im_shape_val[i][1])*256))\n",
        "    label_val[i][3] = int(((float(label_val[i][3])/im_shape_val[i][0])*256))\n",
        "\n",
        "for i in range(len(label_test)):\n",
        "    label_test[i][0] = int(((float(label_test[i][0])/im_shape_test[i][1])*256))\n",
        "    label_test[i][1] = int(((float(label_test[i][1])/im_shape_test[i][0])*256))\n",
        "    label_test[i][2] = int(((float(label_test[i][2])/im_shape_test[i][1])*256))\n",
        "    label_test[i][3] = int(((float(label_test[i][3])/im_shape_test[i][0])*256))\n",
        "    \n",
        "print(label_train)\n",
        "# print(label_val)\n",
        "# print(label_test)"
      ],
      "execution_count": 212,
      "outputs": [
        {
          "output_type": "stream",
          "text": [
            "[[18, 52, 251, 199], [57, 100, 219, 166], [57, 66, 131, 141], [21, 39, 192, 174], [65, 46, 193, 209], [31, 45, 162, 132], [34, 3, 193, 245], [68, 41, 242, 179], [104, 44, 168, 132], [33, 68, 188, 226], [81, 50, 237, 138], [80, 41, 200, 140], [8, 19, 253, 144], [47, 59, 242, 198], [46, 98, 200, 200], [39, 25, 217, 147], [2, 57, 199, 159], [57, 15, 245, 237], [88, 85, 211, 172], [78, 116, 240, 198], [38, 43, 242, 154], [14, 38, 215, 235], [121, 73, 221, 156], [41, 23, 227, 226], [41, 106, 237, 197], [48, 32, 220, 198], [68, 74, 185, 156], [16, 46, 238, 178], [49, 101, 211, 202], [10, 24, 238, 161], [27, 89, 177, 184], [83, 98, 235, 202], [80, 71, 246, 222], [12, 79, 194, 187], [31, 59, 227, 173], [9, 116, 168, 230], [48, 73, 143, 167], [51, 55, 233, 174], [18, 49, 180, 170], [52, 51, 217, 186], [75, 122, 219, 194], [29, 30, 156, 162], [86, 74, 227, 195], [60, 46, 200, 204], [47, 74, 186, 215], [95, 73, 214, 197], [36, 67, 156, 146], [44, 45, 119, 240], [41, 70, 138, 209], [34, 47, 189, 178], [20, 23, 224, 203], [113, 91, 190, 173], [41, 54, 110, 136], [68, 67, 229, 198], [68, 63, 198, 191], [50, 9, 239, 246], [21, 51, 211, 225], [23, 33, 246, 181], [84, 89, 226, 176], [87, 62, 151, 192], [25, 63, 197, 242], [61, 45, 221, 186], [24, 55, 216, 226], [20, 32, 250, 215], [34, 41, 157, 194], [39, 61, 157, 204], [35, 79, 154, 163], [105, 34, 171, 240], [48, 135, 113, 221], [17, 61, 183, 221], [24, 56, 159, 207], [113, 70, 190, 194], [64, 98, 216, 179], [78, 72, 190, 175], [125, 101, 183, 183], [99, 91, 176, 169], [28, 32, 155, 200], [71, 87, 153, 207], [129, 97, 235, 178], [51, 36, 194, 193], [93, 86, 192, 215], [29, 33, 207, 219], [83, 84, 202, 196], [142, 40, 237, 174]]\n"
          ],
          "name": "stdout"
        }
      ]
    },
    {
      "cell_type": "code",
      "metadata": {
        "id": "vIFnB7vMMZJY",
        "colab_type": "code",
        "colab": {
          "base_uri": "https://localhost:8080/",
          "height": 56
        },
        "outputId": "124fbebc-df25-442a-a30c-0760c37a15f1"
      },
      "source": [
        "print(label_train)"
      ],
      "execution_count": 197,
      "outputs": [
        {
          "output_type": "stream",
          "text": [
            "[[18, 52, 251, 199], [57, 100, 219, 166], [57, 66, 131, 141], [21, 39, 192, 174], [65, 46, 193, 209], [31, 45, 162, 132], [34, 3, 193, 245], [68, 41, 242, 179], [104, 44, 168, 132], [33, 68, 188, 226], [81, 50, 237, 138], [80, 41, 200, 140], [8, 19, 253, 144], [47, 59, 242, 198], [46, 98, 200, 200], [39, 25, 217, 147], [2, 57, 199, 159], [57, 15, 245, 237], [88, 85, 211, 172], [78, 116, 240, 198], [38, 43, 242, 154], [14, 38, 215, 235], [121, 73, 221, 156], [41, 23, 227, 226], [41, 106, 237, 197], [48, 32, 220, 198], [68, 74, 185, 156], [16, 46, 238, 178], [49, 101, 211, 202], [10, 24, 238, 161], [27, 89, 177, 184], [83, 98, 235, 202], [80, 71, 246, 222], [12, 79, 194, 187], [31, 59, 227, 173], [9, 116, 168, 230], [48, 73, 143, 167], [51, 55, 233, 174], [18, 49, 180, 170], [52, 51, 217, 186], [75, 122, 219, 194], [29, 30, 156, 162], [86, 74, 227, 195], [60, 46, 200, 204], [47, 74, 186, 215], [95, 73, 214, 197], [36, 67, 156, 146], [44, 45, 119, 240], [41, 70, 138, 209], [34, 47, 189, 178], [20, 23, 224, 203], [113, 91, 190, 173], [41, 54, 110, 136], [68, 67, 229, 198], [68, 63, 198, 191], [50, 9, 239, 246], [21, 51, 211, 225], [23, 33, 246, 181], [84, 89, 226, 176], [87, 62, 151, 192], [25, 63, 197, 242], [61, 45, 221, 186], [24, 55, 216, 226], [20, 32, 250, 215], [34, 41, 157, 194], [39, 61, 157, 204], [35, 79, 154, 163], [105, 34, 171, 240], [48, 135, 113, 221], [17, 61, 183, 221], [24, 56, 159, 207], [113, 70, 190, 194], [64, 98, 216, 179], [78, 72, 190, 175], [125, 101, 183, 183], [99, 91, 176, 169], [28, 32, 155, 200], [71, 87, 153, 207], [129, 97, 235, 178], [51, 36, 194, 193], [93, 86, 192, 215], [29, 33, 207, 219], [83, 84, 202, 196], [142, 40, 237, 174]]\n"
          ],
          "name": "stdout"
        }
      ]
    },
    {
      "cell_type": "code",
      "metadata": {
        "id": "iXvMfjKsjh_s",
        "colab_type": "code",
        "colab": {}
      },
      "source": [
        "label_train = np.asarray(label_train)\n",
        "label_val = np.asarray(label_val)\n",
        "label_test = np.asarray(label_test)\n",
        "train_it = np.asarray(train_it)\n",
        "val_it = np.asarray(val_it)\n",
        "test_it = np.asarray(test_it)"
      ],
      "execution_count": 0,
      "outputs": []
    },
    {
      "cell_type": "code",
      "metadata": {
        "id": "gmsekAwDbptY",
        "colab_type": "code",
        "colab": {}
      },
      "source": [
        "# import os,glob\n",
        "# from matplotlib import pyplot as plt\n",
        "# from google.colab.patches import cv2_imshow\n",
        "\n",
        "# j = 0\n",
        "# for line in label_train:\n",
        "#     image = cv2.rectangle(train_it[j],(int(float(line[0])),int(float(line[1]))),(int(float(line[2])),int(float(line[3]))),(255,0,0),2)\n",
        "#     j +=1\n",
        "#     print(image.shape)\n",
        "#     cv2_imshow(image)"
      ],
      "execution_count": 0,
      "outputs": []
    },
    {
      "cell_type": "code",
      "metadata": {
        "id": "GRU_AjoWbpth",
        "colab_type": "code",
        "colab": {}
      },
      "source": [
        "from keras.layers import Convolution2D as Conv2D\n",
        "from keras import optimizers\n",
        "from keras.models import Sequential\n",
        "from keras.layers import MaxPooling2D,Flatten,Dense,Dropout\n",
        "def define_model():\n",
        "    model = Sequential()\n",
        "    model.add(Conv2D(96,(11,11),activation='relu',kernel_initializer='he_uniform',padding='valid',input_shape=(256,256,3)))\n",
        "    model.add(MaxPooling2D((3,3),padding='valid'))\n",
        "\n",
        "    model.add(Conv2D(256,(5,5),activation='relu',kernel_initializer='he_uniform',padding='valid'))\n",
        "    model.add(MaxPooling2D((3,3),padding='valid'))\n",
        "\n",
        "    model.add(Conv2D(384,(3,3),activation='relu',kernel_initializer='he_uniform',padding='valid'))\n",
        "\n",
        "    model.add(Conv2D(384,(3,3),activation='relu',kernel_initializer='he_uniform',padding='valid'))\n",
        "\n",
        "    model.add(Conv2D(256,(3,3),activation='relu',kernel_initializer='he_uniform',padding='valid'))\n",
        "    model.add(MaxPooling2D((3,3),padding='valid'))\n",
        "    model.add(Flatten())\n",
        "\n",
        "    model.add(Dense(4096,activation='relu',kernel_initializer='he_uniform'))\n",
        "    model.add(Dropout(0.4))\n",
        "\n",
        "    model.add(Dense(4096,activation='relu',kernel_initializer='he_uniform'))\n",
        "    model.add(Dropout(0.4))\n",
        "\n",
        "    model.add(Dense(4,activation='relu'))\n",
        "\n",
        "    opt = optimizers.RMSprop(learning_rate=0.000001,rho=0.9)\n",
        "    model.compile(optimizer=opt,loss='mean_squared_error',metrics=['accuracy'])\n",
        "    return model"
      ],
      "execution_count": 0,
      "outputs": []
    },
    {
      "cell_type": "code",
      "metadata": {
        "id": "gOcKHzLmbpto",
        "colab_type": "code",
        "colab": {}
      },
      "source": [
        "model = define_model()"
      ],
      "execution_count": 0,
      "outputs": []
    },
    {
      "cell_type": "code",
      "metadata": {
        "id": "xpWQTXJxbptu",
        "colab_type": "code",
        "colab": {}
      },
      "source": [
        "# print((label_test))"
      ],
      "execution_count": 0,
      "outputs": []
    },
    {
      "cell_type": "code",
      "metadata": {
        "scrolled": true,
        "id": "jIGueQrgbpt4",
        "colab_type": "code",
        "colab": {}
      },
      "source": [
        "history = model.fit(train_it,label_train, steps_per_epoch=len(train_it),\n",
        "\tvalidation_data=(val_it,label_val), validation_steps=len(val_it), epochs=150,verbose=1)"
      ],
      "execution_count": 0,
      "outputs": []
    },
    {
      "cell_type": "code",
      "metadata": {
        "id": "mvV-7-Da0W7s",
        "colab_type": "code",
        "colab": {}
      },
      "source": [
        "model.save(root+'Alexnet_IBIS1.h5')"
      ],
      "execution_count": 0,
      "outputs": []
    },
    {
      "cell_type": "code",
      "metadata": {
        "id": "nBJaY4zjbpuI",
        "colab_type": "code",
        "outputId": "663ee991-9048-454b-e57b-43ec33df3323",
        "colab": {
          "base_uri": "https://localhost:8080/",
          "height": 54
        }
      },
      "source": [
        "model.evaluate(test_it,label_test)"
      ],
      "execution_count": 85,
      "outputs": [
        {
          "output_type": "stream",
          "text": [
            "\r12/12 [==============================] - 0s 2ms/step\n"
          ],
          "name": "stdout"
        },
        {
          "output_type": "execute_result",
          "data": {
            "text/plain": [
              "[908.0325317382812, 0.5833333134651184]"
            ]
          },
          "metadata": {
            "tags": []
          },
          "execution_count": 85
        }
      ]
    },
    {
      "cell_type": "code",
      "metadata": {
        "id": "VhAGCVlobOY6",
        "colab_type": "code",
        "colab": {}
      },
      "source": [
        "from keras.models import load_model\n",
        "result = load_model(root+'Alexnet_IBIS1.h5').predict(train_it)\n",
        "print(result)"
      ],
      "execution_count": 0,
      "outputs": []
    },
    {
      "cell_type": "code",
      "metadata": {
        "id": "yjMhd6Z5bySD",
        "colab_type": "code",
        "colab": {}
      },
      "source": [
        "from google.colab.patches import cv2_imshow\n",
        "\n",
        "arr = []\n",
        "image = cv2.imread('/content/Gadwall.jpg')\n",
        "image = cv2.resize(image,(256,256))\n",
        "image = image.reshape(256,256,3)\n",
        "arr.append(image)\n",
        "arr = np.asarray(arr)\n",
        "result = load_model(root+'Alexnet_IBIS1.h5').predict(arr)\n",
        "image = cv2.rectangle(image,(int(result[0][0]),int(result[0][1])),(int(result[0][2]),int(result[0][3])),(0,0,255),2)\n",
        "cv2_imshow(image)\n",
        "# j = 0\n",
        "# for line in label_train:\n",
        "#     image1 = train_it[j]\n",
        "#     image = cv2.rectangle(image1,(int(float(line[0])),int(float(line[1]))),(int(float(line[2])),int(float(line[3]))),(255,0,0),2)\n",
        "#     image = cv2.rectangle(image1,(int(result[j][0]),int(result[j][1])),(int(result[j][2]),int(result[j][3])),(0,0,255),2)\n",
        "#     j +=1\n",
        "#     print(image.shape)\n",
        "#     cv2_imshow(image)"
      ],
      "execution_count": 0,
      "outputs": []
    },
    {
      "cell_type": "code",
      "metadata": {
        "id": "_xVBCUvMgHwA",
        "colab_type": "code",
        "colab": {}
      },
      "source": [
        "temp = train_it\n",
        "temp1 = val_it\n",
        "temp2 = test_it\n",
        "\n",
        "train_arr = []\n",
        "val_arr = []\n",
        "test_arr = []\n",
        "\n",
        "for k in range(len(temp)):\n",
        "  for i in range(256):\n",
        "    for j in range(256):\n",
        "      if((j>=label_train[k][0] and j<=label_train[k][2] ) and (i>=label_train[k][1] and i<=label_train[k][3])):\n",
        "        pass\n",
        "      else:\n",
        "        temp[k][i][j] = 255\n",
        "  # cv2_imshow(temp[k])\n",
        "  train_arr.append(temp[k])\n",
        "\n",
        "for k in range(len(temp1)):\n",
        "  for i in range(256):\n",
        "    for j in range(256):\n",
        "      if((j>=label_val[k][0] and j<=label_val[k][2] ) and (i>=label_val[k][1] and i<=label_val[k][3])):\n",
        "        pass\n",
        "      else:\n",
        "        temp1[k][i][j] = 255\n",
        "  # cv2_imshow(temp[k])\n",
        "  val_arr.append(temp1[k])\n",
        "\n",
        "for k in range(len(temp2)):\n",
        "  for i in range(256):\n",
        "    for j in range(256):\n",
        "      if((j>=label_test[k][0] and j<=label_test[k][2] ) and (i>=label_test[k][1] and i<=label_test[k][3])):\n",
        "        pass\n",
        "      else:\n",
        "        temp2[k][i][j] = 255\n",
        "  # cv2_imshow(temp[k])\n",
        "  test_arr.append(temp2[k])\n",
        "\n",
        "train_arr = np.asarray(train_arr)\n",
        "val_arr = np.asarray(val_arr)\n",
        "test_arr = np.asarray(test_arr)\n",
        "\n",
        "\n"
      ],
      "execution_count": 0,
      "outputs": []
    },
    {
      "cell_type": "code",
      "metadata": {
        "id": "oUAEwTz4w8jq",
        "colab_type": "code",
        "colab": {}
      },
      "source": [
        "for i in range(84):\n",
        "  cv2_imshow(train_arr[i])"
      ],
      "execution_count": 0,
      "outputs": []
    },
    {
      "cell_type": "code",
      "metadata": {
        "id": "Dhegqbxb6rN_",
        "colab_type": "code",
        "colab": {}
      },
      "source": [
        "predict_class_train = np.asarray(predict_class_train)\n",
        "predict_class_val = np.asarray(predict_class_val)\n",
        "predict_class_test = np.asarray(predict_class_test)\n",
        "print(predict_class_test)"
      ],
      "execution_count": 0,
      "outputs": []
    },
    {
      "cell_type": "code",
      "metadata": {
        "id": "mClZTd6e72hO",
        "colab_type": "code",
        "colab": {}
      },
      "source": [
        "from keras.layers import Convolution2D as Conv2D\n",
        "from keras import optimizers\n",
        "from keras.models import Sequential\n",
        "from keras.layers import MaxPooling2D,Flatten,Dense,Dropout\n",
        "def define_model_predict():\n",
        "    model = Sequential()\n",
        "    model.add(Conv2D(96,(11,11),activation='relu',kernel_initializer='he_uniform',padding='valid',input_shape=(256,256,3)))\n",
        "    model.add(MaxPooling2D((3,3),padding='valid'))\n",
        "\n",
        "    model.add(Conv2D(256,(5,5),activation='relu',kernel_initializer='he_uniform',padding='valid'))\n",
        "    model.add(MaxPooling2D((3,3),padding='valid'))\n",
        "\n",
        "    model.add(Conv2D(384,(3,3),activation='relu',kernel_initializer='he_uniform',padding='valid'))\n",
        "\n",
        "    model.add(Conv2D(384,(3,3),activation='relu',kernel_initializer='he_uniform',padding='valid'))\n",
        "\n",
        "    model.add(Conv2D(256,(3,3),activation='relu',kernel_initializer='he_uniform',padding='valid'))\n",
        "    model.add(MaxPooling2D((3,3),padding='valid'))\n",
        "    model.add(Flatten())\n",
        "\n",
        "    model.add(Dense(4096,activation='relu',kernel_initializer='he_uniform'))\n",
        "    model.add(Dropout(0.4))\n",
        "\n",
        "    model.add(Dense(4096,activation='relu',kernel_initializer='he_uniform'))\n",
        "    model.add(Dropout(0.4))\n",
        "\n",
        "    model.add(Dense(2,activation='softmax'))\n",
        "\n",
        "    opt = optimizers.RMSprop(learning_rate=0.000001,rho=0.9)\n",
        "    model.compile(optimizer=opt,loss='mean_squared_error',metrics=['accuracy'])\n",
        "    return model"
      ],
      "execution_count": 0,
      "outputs": []
    },
    {
      "cell_type": "code",
      "metadata": {
        "id": "WpW7t6ZEEP79",
        "colab_type": "code",
        "colab": {}
      },
      "source": [
        "model_predict = define_model_predict()"
      ],
      "execution_count": 0,
      "outputs": []
    },
    {
      "cell_type": "code",
      "metadata": {
        "id": "K657hLWTETsv",
        "colab_type": "code",
        "colab": {}
      },
      "source": [
        "history = model_predict.fit(train_arr,predict_class_train, steps_per_epoch=len(train_arr),\n",
        "\tvalidation_data=(val_arr,predict_class_val), validation_steps=len(val_arr), epochs=150,verbose=1)"
      ],
      "execution_count": 0,
      "outputs": []
    },
    {
      "cell_type": "code",
      "metadata": {
        "id": "iCDMCBJcEq8R",
        "colab_type": "code",
        "colab": {}
      },
      "source": [
        "model_predict.save(root+'model_predict.h5')"
      ],
      "execution_count": 0,
      "outputs": []
    },
    {
      "cell_type": "code",
      "metadata": {
        "id": "zQzWQmL2UBEu",
        "colab_type": "code",
        "colab": {
          "base_uri": "https://localhost:8080/",
          "height": 54
        },
        "outputId": "f6f95299-33b2-497b-c761-792fdc3ada79"
      },
      "source": [
        "model1 = load_model(root+'model_predict.h5')\n",
        "model1.evaluate(test_arr,predict_class_test)"
      ],
      "execution_count": 233,
      "outputs": [
        {
          "output_type": "stream",
          "text": [
            "\r12/12 [==============================] - 0s 5ms/step\n"
          ],
          "name": "stdout"
        },
        {
          "output_type": "execute_result",
          "data": {
            "text/plain": [
              "[0.0, 1.0]"
            ]
          },
          "metadata": {
            "tags": []
          },
          "execution_count": 233
        }
      ]
    },
    {
      "cell_type": "code",
      "metadata": {
        "id": "JPvWhDr5UZbt",
        "colab_type": "code",
        "colab": {
          "base_uri": "https://localhost:8080/",
          "height": 36
        },
        "outputId": "1b08881b-3a1a-473d-cfd3-169e454dff04"
      },
      "source": [
        "arr = []\n",
        "image = train_arr[50]\n",
        "image = cv2.resize(image,(256,256))\n",
        "image = image.reshape(256,256,3)\n",
        "arr.append(image)\n",
        "arr = np.asarray(arr)\n",
        "result = load_model(root+'model_predict.h5').predict(arr)\n",
        "print(result)"
      ],
      "execution_count": 243,
      "outputs": [
        {
          "output_type": "stream",
          "text": [
            "[[0. 1.]]\n"
          ],
          "name": "stdout"
        }
      ]
    },
    {
      "cell_type": "code",
      "metadata": {
        "id": "xw7KOnexV3Bh",
        "colab_type": "code",
        "colab": {}
      },
      "source": [
        ""
      ],
      "execution_count": 0,
      "outputs": []
    }
  ]
}